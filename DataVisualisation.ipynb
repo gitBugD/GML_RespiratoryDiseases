{
 "cells": [
  {
   "cell_type": "markdown",
   "id": "b8801582",
   "metadata": {},
   "source": [
    "# Data Visualisation\n",
    "\n",
    "The goal of this notebook is to visualize data in a world map and time series format of the target variable in function of the observation variable. It uses data in the `Data/1021/` folder with `incidence` and `prevalence` as target variable. It should be dynamic. "
   ]
  },
  {
   "cell_type": "code",
   "execution_count": 8,
   "id": "76fc086b",
   "metadata": {},
   "outputs": [],
   "source": [
    "import pandas as pd\n",
    "import numpy as np\n",
    "import plotly.express as px\n",
    "import os\n",
    "import glob\n",
    "from ipywidgets import Dropdown, HBox, VBox, SelectMultiple, Button, Accordion, Output\n",
    "import IPython.display as display"
   ]
  },
  {
   "cell_type": "code",
   "execution_count": 9,
   "id": "21b9e1f4",
   "metadata": {},
   "outputs": [],
   "source": [
    "# Load data and extract metadata\n",
    "data_folder = 'Data/1021/'\n",
    "datasets = {\n",
    "    os.path.basename(f).replace('.csv', ''): pd.read_csv(f)\n",
    "    for f in glob.glob(os.path.join(data_folder, '*.csv'))\n",
    "}\n",
    "\n",
    "# Extract all unique years and countries using set comprehensions\n",
    "all_years = sorted({year for df in datasets.values() if 'Year' in df.columns for year in df['Year'].unique()})\n",
    "all_countries = sorted({country for df in datasets.values() if 'Country Name' in df.columns for country in df['Country Name'].unique()})"
   ]
  },
  {
   "cell_type": "code",
   "execution_count": 10,
   "id": "3cfb13da",
   "metadata": {},
   "outputs": [],
   "source": [
    "# Auto-discover available variables from all datasets\n",
    "standard_cols = {'Year', 'Value', 'Measure'}\n",
    "observation_variables = sorted({\n",
    "    col for df in datasets.values() \n",
    "    for col in df.select_dtypes(include=[np.number]).columns \n",
    "    if col not in standard_cols\n",
    "})\n",
    "\n",
    "# Extract disease and metric types from filenames\n",
    "disease_types = sorted({name.split('_')[0] for name in datasets.keys() if '_' in name})\n",
    "metric_types = sorted({'_'.join(name.split('_')[1:]) for name in datasets.keys() if '_' in name})\n",
    "\n",
    "# All variables include Year, metric types, and observation variables\n",
    "all_variables = ['Year'] + sorted(set(metric_types + observation_variables))"
   ]
  },
  {
   "cell_type": "code",
   "execution_count": 11,
   "id": "2c5d6603",
   "metadata": {},
   "outputs": [],
   "source": [
    "# Helper function to create dropdowns\n",
    "def create_dropdown(description, options, width='100px'):\n",
    "    return Dropdown(options=options, description=description, style={'description_width': width})\n",
    "\n",
    "def create_button_with_action(description, action):\n",
    "    button = Button(description=description)\n",
    "    button.on_click(action)\n",
    "    return button\n",
    "\n",
    "# Create all dropdowns - X and Y axis have the same options\n",
    "disease_dropdown = create_dropdown('Disease:', disease_types)\n",
    "viz_type_dropdown = create_dropdown('Viz Type:', ['World Map', 'Comparison'])\n",
    "y_var_dropdown = create_dropdown('Y-Axis Var:', all_variables)\n",
    "x_var_dropdown = create_dropdown('X-Axis Var:', all_variables)\n",
    "color_by_dropdown = create_dropdown('Color by:', ['Country Name', 'Year'])\n",
    "country1_dropdown = create_dropdown('Country 1:', ['None'] + all_countries)\n",
    "country2_dropdown = create_dropdown('Country 2:', ['None'] + all_countries)\n",
    "\n",
    "# Years selector\n",
    "years_selector = SelectMultiple(options=all_years, description='Years:', style={'description_width': '100px'})\n",
    "\n",
    "# Create years control buttons with lambda functions\n",
    "all_years_button = create_button_with_action('Select All Years', lambda b: setattr(years_selector, 'value', tuple(all_years)))\n",
    "clear_years_button = create_button_with_action('Clear Years', lambda b: setattr(years_selector, 'value', ()))\n",
    "\n",
    "# Create accordion for years\n",
    "accordion = Accordion(\n",
    "    children=[VBox([years_selector, HBox([all_years_button, clear_years_button])])],\n",
    "    titles=('Filter by Years',), selected_index=None\n",
    ")"
   ]
  },
  {
   "cell_type": "code",
   "execution_count": 12,
   "id": "40189eeb",
   "metadata": {},
   "outputs": [],
   "source": [
    "# Define the visualization function\n",
    "def create_visualization(disease, y_var, x_var, viz_type, country1, country2, filter_years, color_by):\n",
    "    y_is_metric = y_var in metric_types\n",
    "    x_is_metric = x_var in metric_types\n",
    "    \n",
    "    # Load dataset(s) and determine column names\n",
    "    if x_is_metric and y_is_metric and x_var != y_var:\n",
    "        # Need to merge two metric datasets\n",
    "        y_dataset_key = f\"{disease}_{y_var}\"\n",
    "        x_dataset_key = f\"{disease}_{x_var}\"\n",
    "        \n",
    "        if x_dataset_key not in datasets or y_dataset_key not in datasets:\n",
    "            return None\n",
    "        \n",
    "        df = datasets[y_dataset_key].merge(\n",
    "            datasets[x_dataset_key], \n",
    "            on=['Country Name', 'Country Code', 'Year'], \n",
    "            suffixes=('_y', '_x')\n",
    "        )\n",
    "        y_col, x_col = 'Value_y', 'Value_x'\n",
    "    else:\n",
    "        # Single dataset (load based on whichever variable is a metric, or first disease dataset)\n",
    "        dataset_key = (f\"{disease}_{y_var}\" if y_is_metric \n",
    "                      else f\"{disease}_{x_var}\" if x_is_metric\n",
    "                      else next((k for k in datasets.keys() if k.startswith(f\"{disease}_\")), None))\n",
    "        \n",
    "        if not dataset_key or dataset_key not in datasets:\n",
    "            return None\n",
    "        \n",
    "        df = datasets[dataset_key].copy()\n",
    "        y_col = 'Value' if y_is_metric else y_var\n",
    "        x_col = 'Value' if x_is_metric else x_var\n",
    "    \n",
    "    # Select countries\n",
    "    selected_countries = [c for c in [country1, country2] if c != \"None\"]\n",
    "    if not selected_countries:\n",
    "        selected_countries = df['Country Name'].unique().tolist()\n",
    "    \n",
    "    # World Map visualization\n",
    "    if viz_type == 'World Map':\n",
    "        df_map = df[(df['Year'] >= 2010) & (df['Year'] <= 2021)].sort_values('Year')\n",
    "        \n",
    "        fig = px.choropleth(\n",
    "            df_map, locations='Country Code', color=y_col, hover_name='Country Name',\n",
    "            animation_frame='Year', color_continuous_scale='Viridis',\n",
    "            title=f\"{disease.capitalize()} - {y_var} by Country (2010-2021)\"\n",
    "        )\n",
    "        fig.update_layout(\n",
    "            height=600, \n",
    "            geo=dict(showland=True),\n",
    "            coloraxis=dict(\n",
    "                cmin=df_map[y_col].min(), \n",
    "                cmax=df_map[y_col].max(),\n",
    "                colorbar=dict(title=y_var)\n",
    "            )\n",
    "        )\n",
    "        return fig\n",
    "    \n",
    "    # Comparison visualization\n",
    "    df_filtered = df.dropna(subset=[x_col, y_col])\n",
    "    df_filtered = df_filtered[df_filtered['Country Name'].isin(selected_countries)]\n",
    "    \n",
    "    if filter_years:\n",
    "        df_filtered = df_filtered[df_filtered['Year'].isin(filter_years)]\n",
    "    \n",
    "    # Create visualization based on x_var type\n",
    "    if x_var == 'Year':\n",
    "        df_filtered = df_filtered.sort_values('Year')\n",
    "        fig = px.line(\n",
    "            df_filtered, x='Year', y=y_col, color=color_by, markers=True,\n",
    "            title=f\"{disease.capitalize()} - {y_var} over Time ({len(selected_countries)} countries)\"\n",
    "        )\n",
    "    else:\n",
    "        color_col = color_by if len(selected_countries) == 1 or color_by == 'Year' else 'Country Name'\n",
    "        trendline = 'ols' if len(selected_countries) == 1 else None\n",
    "        fig = px.scatter(\n",
    "            df_filtered, x=x_col, y=y_col, color=color_col, trendline=trendline,\n",
    "            title=f\"{disease.capitalize()} - {y_var} vs {x_var} ({len(selected_countries)} countries)\"\n",
    "        )\n",
    "    \n",
    "    fig.update_layout(height=600, hovermode='closest', xaxis_title=x_var, yaxis_title=y_var)\n",
    "    return fig"
   ]
  },
  {
   "cell_type": "code",
   "execution_count": 13,
   "id": "03684308",
   "metadata": {},
   "outputs": [],
   "source": [
    "# Use observe to update plot when dropdowns change\n",
    "output_plot = Output()\n",
    "\n",
    "def update_plot(change=None):\n",
    "    output_plot.clear_output(wait=True)\n",
    "    with output_plot:\n",
    "        fig = create_visualization(\n",
    "            disease_dropdown.value, y_var_dropdown.value, x_var_dropdown.value,\n",
    "            viz_type_dropdown.value, country1_dropdown.value, country2_dropdown.value,\n",
    "            years_selector.value, color_by_dropdown.value\n",
    "        )\n",
    "        if fig:\n",
    "            fig.show()"
   ]
  },
  {
   "cell_type": "code",
   "execution_count": 14,
   "id": "dc3731b0",
   "metadata": {},
   "outputs": [
    {
     "data": {
      "application/vnd.jupyter.widget-view+json": {
       "model_id": "9334d2c2994647b3aa94653b31e40d9a",
       "version_major": 2,
       "version_minor": 0
      },
      "text/plain": [
       "HBox(children=(Dropdown(description='Disease:', options=('COPD', 'asthma', 'tuberculosis'), style=DescriptionS…"
      ]
     },
     "metadata": {},
     "output_type": "display_data"
    },
    {
     "data": {
      "application/vnd.jupyter.widget-view+json": {
       "model_id": "6fcdbd08cf294aa4bc78258526ab8dea",
       "version_major": 2,
       "version_minor": 0
      },
      "text/plain": [
       "HBox(children=(Dropdown(description='Country 1:', options=('None', 'Albania', 'Australia', 'Austria', 'Belarus…"
      ]
     },
     "metadata": {},
     "output_type": "display_data"
    },
    {
     "data": {
      "application/vnd.jupyter.widget-view+json": {
       "model_id": "9281f791aa9c4406b5ea07814fefaca5",
       "version_major": 2,
       "version_minor": 0
      },
      "text/plain": [
       "Accordion(children=(VBox(children=(SelectMultiple(description='Years:', options=(np.int64(2010), np.int64(2011…"
      ]
     },
     "metadata": {},
     "output_type": "display_data"
    },
    {
     "data": {
      "application/vnd.jupyter.widget-view+json": {
       "model_id": "78be18d357aa4e5480c7e41132dd0852",
       "version_major": 2,
       "version_minor": 0
      },
      "text/plain": [
       "Output()"
      ]
     },
     "metadata": {},
     "output_type": "display_data"
    }
   ],
   "source": [
    "# Attach observers to all dropdowns\n",
    "for widget in [disease_dropdown, y_var_dropdown, x_var_dropdown, viz_type_dropdown,\n",
    "               country1_dropdown, country2_dropdown, years_selector, color_by_dropdown]:\n",
    "    widget.observe(update_plot, names='value')\n",
    "\n",
    "# Display controls and output\n",
    "display.display(HBox([disease_dropdown, y_var_dropdown, x_var_dropdown, viz_type_dropdown]))\n",
    "display.display(HBox([country1_dropdown, country2_dropdown, color_by_dropdown]))\n",
    "display.display(accordion)\n",
    "display.display(output_plot)\n",
    "\n",
    "# Trigger initial visualization\n",
    "update_plot()"
   ]
  }
 ],
 "metadata": {
  "kernelspec": {
   "display_name": "venv (3.12.10)",
   "language": "python",
   "name": "python3"
  },
  "language_info": {
   "codemirror_mode": {
    "name": "ipython",
    "version": 3
   },
   "file_extension": ".py",
   "mimetype": "text/x-python",
   "name": "python",
   "nbconvert_exporter": "python",
   "pygments_lexer": "ipython3",
   "version": "3.12.10"
  }
 },
 "nbformat": 4,
 "nbformat_minor": 5
}
